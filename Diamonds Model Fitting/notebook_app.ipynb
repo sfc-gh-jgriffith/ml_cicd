{
 "metadata": {
  "kernelspec": {
   "display_name": "Streamlit Notebook",
   "name": "streamlit"
  }
 },
 "nbformat_minor": 5,
 "nbformat": 4,
 "cells": [
  {
   "cell_type": "markdown",
   "id": "e94ed55b-a941-4031-8b61-3569de116747",
   "metadata": {
    "name": "cell10",
    "collapsed": false
   },
   "source": "# Diamonds Model\nThis notebook creates a pipeline for feature transformations and a hyperparameter search using an XGBoostRegressor estimator. The model is then logged to a Snowflake Model Registry."
  },
  {
   "cell_type": "code",
   "id": "3775908f-ca36-4846-8f38-5adca39217f2",
   "metadata": {
    "language": "python",
    "name": "cell1"
   },
   "source": "# Snowpark ML\nimport snowflake.ml.modeling.preprocessing as snowml\nfrom snowflake.ml.modeling.pipeline import Pipeline\n\nfrom snowflake.ml.modeling.xgboost import XGBRegressor\nfrom snowflake.ml.modeling.model_selection import GridSearchCV\nfrom snowflake.ml.registry import Registry\nfrom snowflake.ml._internal.utils import identifier\nfrom snowflake.ml.modeling.metrics import mean_absolute_percentage_error\n\n# Data Science Libs\nimport numpy as np\n\n# warning suppresion\nimport warnings; warnings.simplefilter('ignore')\n\n# We can also use Snowpark for our analyses!\nfrom snowflake.snowpark.context import get_active_session",
   "execution_count": null,
   "outputs": []
  },
  {
   "cell_type": "code",
   "id": "92b7c8c9-179e-49d9-ade4-e69f5ab9d4ea",
   "metadata": {
    "language": "python",
    "name": "cell3",
    "codeCollapsed": false
   },
   "outputs": [],
   "source": "session = get_active_session()\nsession.sql_simplifier_enabled = True",
   "execution_count": null
  },
  {
   "cell_type": "code",
   "id": "d1d32934-8c86-4574-a902-c477f03a2420",
   "metadata": {
    "language": "python",
    "name": "cell2",
    "codeCollapsed": false
   },
   "outputs": [],
   "source": "session.use_schema('DATA')\ndiamonds_df = session.table('DIAMONDS')",
   "execution_count": null
  },
  {
   "cell_type": "code",
   "id": "ec2e83ee-b101-4e6d-8eaf-b437370d1de6",
   "metadata": {
    "language": "python",
    "name": "cell14",
    "codeCollapsed": false
   },
   "outputs": [],
   "source": "# train test split\ndiamonds_train_df, diamonds_test_df = diamonds_df.random_split(weights=[0.9, 0.1], seed=0)",
   "execution_count": null
  },
  {
   "cell_type": "code",
   "id": "7a394ec5-3ead-4b63-9f51-8fb84ee9d0fb",
   "metadata": {
    "language": "python",
    "name": "cell7",
    "codeCollapsed": false
   },
   "outputs": [],
   "source": "# Categorize all the features for processing\nCATEGORICAL_COLUMNS = [\"CUT\", \"COLOR\", \"CLARITY\"]\nNUMERICAL_COLUMNS = [\"CARAT\", \"DEPTH\", \"TABLE_PCT\", \"X\", \"Y\", \"Z\"]\n\nLABEL_COLUMNS = ['PRICE']\nOUTPUT_COLUMNS = ['PREDICTED_PRICE']\n\ncategories = {\n    \"CUT\": np.array([\"Ideal\", \"Premium\", \"Very Good\", \"Good\", \"Fair\"]),\n    \"CLARITY\": np.array([\"IF\", \"VVS1\", \"VVS2\", \"VS1\", \"VS2\", \"SI1\", \"SI2\", \"I1\", \"I2\", \"I3\"]),\n    \"COLOR\": np.array(['D', 'E', 'F', 'G', 'H', 'I', 'J']),\n}",
   "execution_count": null
  },
  {
   "cell_type": "code",
   "id": "66f598a0-770b-4198-893c-eaf41e95f678",
   "metadata": {
    "language": "python",
    "name": "define_grid_search",
    "codeCollapsed": false
   },
   "outputs": [],
   "source": "# define grid search\ngrid_search = GridSearchCV(\n    estimator=XGBRegressor(),\n    param_grid={\n        \"n_estimators\":[100, 200, 300, 400, 500],\n        \"learning_rate\":[0.1, 0.2, 0.3, 0.4, 0.5],\n    },\n    n_jobs = -1,\n    scoring=\"neg_mean_absolute_percentage_error\",\n    input_cols=CATEGORICAL_COLUMNS+NUMERICAL_COLUMNS,\n    label_cols=LABEL_COLUMNS,\n    output_cols=OUTPUT_COLUMNS\n)\n",
   "execution_count": null
  },
  {
   "cell_type": "code",
   "id": "b0256dc6-ce0a-4ead-9767-be62a2b6956b",
   "metadata": {
    "language": "python",
    "name": "define_pipeline",
    "codeCollapsed": false,
    "collapsed": false
   },
   "outputs": [],
   "source": "# Build the pipeline\ntraining_pipeline = Pipeline(\n    steps=[\n            (\n                \"OE\",\n                snowml.OrdinalEncoder(\n                    input_cols=CATEGORICAL_COLUMNS,\n                    output_cols=CATEGORICAL_COLUMNS,\n                    categories=categories,\n                )\n            ),\n            (\n                \"MMS\",\n                snowml.MinMaxScaler(\n                    clip=True,\n                    input_cols=NUMERICAL_COLUMNS,\n                    output_cols=NUMERICAL_COLUMNS,\n                )\n            ),\n            (\n                \"GRID_SEARCH\",\n                grid_search\n                    \n            )\n    ], \n)",
   "execution_count": null
  },
  {
   "cell_type": "code",
   "id": "48977515-faa1-45ce-a3ca-4bf5ec147a8f",
   "metadata": {
    "language": "sql",
    "name": "cell4",
    "codeCollapsed": false
   },
   "outputs": [],
   "source": "alter warehouse {{session.get_current_warehouse()}} set warehouse_size=LARGE; ",
   "execution_count": null
  },
  {
   "cell_type": "code",
   "id": "0995631d-0cf8-4192-9266-2a2076b6857e",
   "metadata": {
    "language": "python",
    "name": "fit_pipeline",
    "codeCollapsed": false
   },
   "outputs": [],
   "source": "_ = training_pipeline.fit(diamonds_train_df)",
   "execution_count": null
  },
  {
   "cell_type": "code",
   "id": "2fc0d77a-72bc-4f21-8b6d-e551fea8e23a",
   "metadata": {
    "language": "sql",
    "name": "cell6",
    "codeCollapsed": false
   },
   "outputs": [],
   "source": "alter warehouse {{session.get_current_warehouse()}} set warehouse_size=XSMALL;",
   "execution_count": null
  },
  {
   "cell_type": "code",
   "id": "55224a5e-27f6-4fae-974f-cafcd69031ab",
   "metadata": {
    "language": "python",
    "name": "cell5"
   },
   "outputs": [],
   "source": "training_pipeline.to_sklearn()['GRID_SEARCH']",
   "execution_count": null
  },
  {
   "cell_type": "code",
   "id": "1ca2e059-aa7a-41a2-af4e-3c9cda5d5ab0",
   "metadata": {
    "language": "python",
    "name": "optimal_model",
    "codeCollapsed": false
   },
   "outputs": [],
   "source": "grid_search_step = training_pipeline.to_sklearn()['GRID_SEARCH']\noptimal_model = grid_search_step.best_estimator_\noptimal_n_estimators = optimal_model.n_estimators\noptimal_learning_rate = optimal_model.learning_rate",
   "execution_count": null
  },
  {
   "cell_type": "code",
   "id": "4b7574e9-9e5b-4ec1-aefc-197f36572f08",
   "metadata": {
    "language": "python",
    "name": "cell12",
    "codeCollapsed": false
   },
   "outputs": [],
   "source": "# Predict\nresult = training_pipeline.predict(diamonds_test_df)\n\n# Analyze results\nmape = mean_absolute_percentage_error(df=result, \n                                        y_true_col_names=\"PRICE\", \n                                        y_pred_col_names=\"PREDICTED_PRICE\")\n\nresult.select(\"PRICE\", \"PREDICTED_PRICE\").show()\nprint(f\"Mean absolute percentage error: {mape}\")",
   "execution_count": null
  },
  {
   "cell_type": "markdown",
   "id": "9094b13d-7b16-444a-b2d0-992e704b8386",
   "metadata": {
    "name": "cell17",
    "collapsed": false
   },
   "source": "## Log model to model registry"
  },
  {
   "cell_type": "code",
   "id": "ab61fd11-fb19-4e60-8303-e42690bf0ae4",
   "metadata": {
    "language": "python",
    "name": "model_registry_config",
    "codeCollapsed": false
   },
   "outputs": [],
   "source": "model_name = \"DIAMONDS_PRICE_PREDICTION\"\n\ndb = identifier._get_unescaped_name(session.get_current_database())\nschema = 'MODEL_REGISTRY'\nnative_registry = Registry(session=session, database_name=db, schema_name=schema)",
   "execution_count": null
  },
  {
   "cell_type": "code",
   "id": "44c50c36-0004-422c-b89d-bf17a3982a50",
   "metadata": {
    "language": "python",
    "name": "create_sample_dataset",
    "codeCollapsed": false
   },
   "outputs": [],
   "source": "# create sample input\n# Get sample input data to pass into the registry logging function\nX = diamonds_train_df.drop(LABEL_COLUMNS).limit(100).to_pandas()\n\nfor c in ['CUT','COLOR','CLARITY']:\n    X[c] = X[c].astype('category')",
   "execution_count": null
  },
  {
   "cell_type": "code",
   "id": "715d16eb-5c83-4457-9e07-cc9d12b3086b",
   "metadata": {
    "language": "python",
    "name": "log_model_version",
    "codeCollapsed": false
   },
   "outputs": [],
   "source": "model_ver = native_registry.log_model(\n    model_name=model_name,\n    model=training_pipeline,\n    sample_input_data=X, # to provide the feature schema,\n)",
   "execution_count": null
  },
  {
   "cell_type": "code",
   "id": "9de27e3c-10fd-48ee-b57f-f85f742a40ae",
   "metadata": {
    "language": "python",
    "name": "log_metadata",
    "codeCollapsed": false
   },
   "outputs": [],
   "source": "model_ver.comment = \"Diamonds prediction model. Full pipeline logged.\"\nmodel_ver.set_metric(metric_name=\"mean_abs_pct_err\", value=mape)\nmodel_ver.set_metric(metric_name=\"n_estimators\", value=optimal_n_estimators)\nmodel_ver.set_metric(metric_name=\"learning_rate\", value=optimal_learning_rate)",
   "execution_count": null
  },
  {
   "cell_type": "code",
   "id": "9c48c342-4dd7-45b1-9750-400c30f4bed8",
   "metadata": {
    "language": "python",
    "name": "cell9",
    "codeCollapsed": false
   },
   "outputs": [],
   "source": "native_registry.get_model(model_name).show_versions()",
   "execution_count": null
  },
  {
   "cell_type": "code",
   "id": "4eb87e45-b6b3-411f-a4ad-1cb700ed27ef",
   "metadata": {
    "language": "python",
    "name": "set_model_default_version",
    "codeCollapsed": false
   },
   "outputs": [],
   "source": "# optional: set the new version of the model as default\nnative_registry.get_model(model_name).default = model_ver.version_name",
   "execution_count": null
  },
  {
   "cell_type": "code",
   "id": "23817205-b6b2-4736-90ed-ac736b556fd2",
   "metadata": {
    "language": "python",
    "name": "cell13"
   },
   "outputs": [],
   "source": "native_registry.get_model(model_name).show_versions()",
   "execution_count": null
  }
 ]
}